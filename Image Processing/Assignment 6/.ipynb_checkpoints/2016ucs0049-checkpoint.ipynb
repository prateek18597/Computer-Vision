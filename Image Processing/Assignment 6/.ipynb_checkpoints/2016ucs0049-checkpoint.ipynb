{
 "cells": [
  {
   "cell_type": "code",
   "execution_count": 102,
   "metadata": {},
   "outputs": [],
   "source": [
    "import cv2\n",
    "import numpy as np\n",
    "import matplotlib.pyplot as plt"
   ]
  },
  {
   "cell_type": "code",
   "execution_count": 103,
   "metadata": {},
   "outputs": [],
   "source": [
    "nemo_images=[]\n",
    "pooh_images=[]\n",
    "nemo_images.append(cv2.imread(\"Nemo.JPG\",0));\n",
    "nemo_images.append(cv2.imread(\"nemo.jpg\",0));\n",
    "pooh_images.append(cv2.imread(\"Winnie_the_pooh.JPG\",0));\n",
    "pooh_images.append(cv2.imread(\"Pooh.png\",0));"
   ]
  },
  {
   "cell_type": "code",
   "execution_count": 125,
   "metadata": {},
   "outputs": [],
   "source": [
    "edited_nemo=np.zeros((len(nemo_images[0]),len(nemo_images[0][0])),dtype=np.uint8)\n",
    "for i in range(0,len(nemo_images[0]),1):\n",
    "    for j in range(0,len(nemo_images[0][0]),1):\n",
    "        if nemo_images[0][i,j]>85:\n",
    "            edited_nemo[i,j]=255;\n",
    "edited_nemo = cv2.medianBlur(edited_nemo,5)"
   ]
  },
  {
   "cell_type": "code",
   "execution_count": 126,
   "metadata": {},
   "outputs": [
    {
     "data": {
      "text/plain": [
       "True"
      ]
     },
     "execution_count": 126,
     "metadata": {},
     "output_type": "execute_result"
    },
    {
     "data": {
      "image/png": "[encoded data removed]",
      "text/plain": [
       "<matplotlib.figure.Figure at 0x7f041e65e690>"
      ]
     },
     "metadata": {},
     "output_type": "display_data"
    }
   ],
   "source": [
    "kernel = np.ones((5,5),np.uint8)\n",
    "edited_nemo = cv2.morphologyEx(edited_nemo, cv2.MORPH_CLOSE, kernel)\n",
    "edited_nemo = cv2.erode(edited_nemo,kernel,iterations = 3)\n",
    "plt.imshow(edited_nemo,cmap=\"gray\");\n",
    "cv2.imwrite(\"Edited_Nemo.jpg\",edited_nemo)"
   ]
  },
  {
   "cell_type": "code",
   "execution_count": 137,
   "metadata": {},
   "outputs": [],
   "source": [
    "edited_pooh=np.zeros((len(pooh_images[0]),len(pooh_images[0][0])),dtype=np.uint8)\n",
    "for i in range(0,len(pooh_images[0]),1):\n",
    "    for j in range(0,len(pooh_images[0][0]),1):\n",
    "        if pooh_images[0][i,j]>90:\n",
    "            edited_pooh[i,j]=255.0;\n",
    "edited_pooh = cv2.medianBlur(edited_pooh,5)"
   ]
  },
  {
   "cell_type": "code",
   "execution_count": 138,
   "metadata": {
    "scrolled": true
   },
   "outputs": [
    {
     "data": {
      "text/plain": [
       "True"
      ]
     },
     "execution_count": 138,
     "metadata": {},
     "output_type": "execute_result"
    },
    {
     "data": {
      "image/png": "[encoded data removed]",
      "text/plain": [
       "<matplotlib.figure.Figure at 0x7f041e5b3210>"
      ]
     },
     "metadata": {},
     "output_type": "display_data"
    }
   ],
   "source": [
    "edited_pooh = cv2.morphologyEx(edited_pooh, cv2.MORPH_CLOSE, kernel)\n",
    "edited_pooh = cv2.erode(edited_pooh,kernel,iterations = 2)\n",
    "plt.imshow(edited_pooh,cmap=\"gray\");\n",
    "cv2.imwrite(\"Edited_Pooh.jpg\",edited_pooh)"
   ]
  },
  {
   "cell_type": "code",
   "execution_count": 174,
   "metadata": {},
   "outputs": [],
   "source": [
    "def generate_score(img1,img2):\n",
    "    sift = cv2.xfeatures2d.SIFT_create()\n",
    "    kp1, des1 = sift.detectAndCompute(img1,None)\n",
    "    kp2, des2 = sift.detectAndCompute(img2,None)\n",
    "    bf = cv2.BFMatcher()\n",
    "    matches = bf.knnMatch(des1,des2, k=2)\n",
    "\n",
    "    good = []\n",
    "    for m in matches:\n",
    "        if m[0].distance < 0.5*m[1].distance:\n",
    "            good.append(m)\n",
    "    matches = np.asarray(good)\n",
    "    return len(matches)/(len(kp2)*0.2)"
   ]
  },
  {
   "cell_type": "code",
   "execution_count": 175,
   "metadata": {},
   "outputs": [
    {
     "name": "stdout",
     "output_type": "stream",
     "text": [
      "('Score for Nemo: ', 0.03361858190709046)\n",
      "('Score for Pooh: ', 0.05397448478900883)\n"
     ]
    }
   ],
   "source": [
    "print(\"Score for Nemo: \",generate_score(edited_nemo,nemo_images[1]));\n",
    "print(\"Score for Pooh: \",generate_score(edited_pooh,pooh_images[1]));"
   ]
  },
  {
   "cell_type": "code",
   "execution_count": 176,
   "metadata": {},
   "outputs": [
    {
     "name": "stdout",
     "output_type": "stream",
     "text": [
      "('Score for Nemo: ', 0.06418092909535451)\n",
      "('Score for Pooh: ', 0.2158979391560353)\n"
     ]
    }
   ],
   "source": [
    "print(\"Score for Nemo: \",generate_score(nemo_images[0],nemo_images[1]));\n",
    "print(\"Score for Pooh: \",generate_score(pooh_images[0],pooh_images[1]));"
   ]
  },
  {
   "cell_type": "code",
   "execution_count": 177,
   "metadata": {},
   "outputs": [
    {
     "name": "stdout",
     "output_type": "stream",
     "text": [
      "('Score for Pooh: ', 5.0)\n"
     ]
    }
   ],
   "source": [
    "p=cv2.imread(\"p.png\",0);\n",
    "print(\"Score for Pooh: \",generate_score(pooh_images[1],pooh_images[1]));"
   ]
  },
  {
   "cell_type": "code",
   "execution_count": null,
   "metadata": {},
   "outputs": [],
   "source": []
  }
 ],
 "metadata": {
  "kernelspec": {
   "display_name": "Python 2",
   "language": "python",
   "name": "python2"
  },
  "language_info": {
   "codemirror_mode": {
    "name": "ipython",
    "version": 2
   },
   "file_extension": ".py",
   "mimetype": "text/x-python",
   "name": "python",
   "nbconvert_exporter": "python",
   "pygments_lexer": "ipython2",
   "version": "2.7.12"
  }
 },
 "nbformat": 4,
 "nbformat_minor": 2
}
